{
 "cells": [
  {
   "cell_type": "markdown",
   "metadata": {},
   "source": [
    "# Decipher Single-byte XOR using ETAOIN SHRDLU"
   ]
  },
  {
   "cell_type": "markdown",
   "metadata": {},
   "source": [
    "https://www.insider.com/gchq-reveals-last-nazi-message-wwii-2020-5\n",
    "\n",
    "![final-message](https://i.insider.com/5eb52a95fc593d494f70c193?width=500&format=jpeg&auto=webp)"
   ]
  },
  {
   "cell_type": "code",
   "execution_count": 1,
   "metadata": {},
   "outputs": [],
   "source": [
    "import random\n",
    "import pandas as pd\n",
    "import matplotlib.pyplot as plt\n",
    "from collections import Counter"
   ]
  },
  {
   "cell_type": "code",
   "execution_count": 2,
   "metadata": {},
   "outputs": [],
   "source": [
    "plain_text = b'british troops entered cuxhaven at 1400 on 6 may - from now on all radio traffic will cease - wishing you all the best. lt kunkel.'"
   ]
  },
  {
   "cell_type": "code",
   "execution_count": null,
   "metadata": {},
   "outputs": [],
   "source": []
  },
  {
   "cell_type": "code",
   "execution_count": 3,
   "metadata": {},
   "outputs": [],
   "source": [
    "key = random.randint(0, 255)"
   ]
  },
  {
   "cell_type": "code",
   "execution_count": 4,
   "metadata": {},
   "outputs": [],
   "source": [
    "def encrypt_single_xor(text: bytes, key: int) -> bytes:\n",
    "    return bytes([b ^ key for b in text])"
   ]
  },
  {
   "cell_type": "code",
   "execution_count": 5,
   "metadata": {},
   "outputs": [],
   "source": [
    "cipher_text = encrypt_single_xor(plain_text, key)"
   ]
  },
  {
   "cell_type": "markdown",
   "metadata": {},
   "source": [
    "Now we need to find `key` and `plain_text` given this `cipher_text`"
   ]
  },
  {
   "cell_type": "code",
   "execution_count": 6,
   "metadata": {},
   "outputs": [],
   "source": [
    "def decipher_single_xor(text: bytes, key: int) -> bytes:\n",
    "    return bytes([b ^ key for b in text])"
   ]
  },
  {
   "cell_type": "code",
   "execution_count": 7,
   "metadata": {},
   "outputs": [],
   "source": [
    "def decipher(text: bytes, scoring_fn=lambda x: 1):\n",
    "    plains = []\n",
    "    for _key in range(256):\n",
    "        _plain_text = decipher_single_xor(text, _key)\n",
    "        _score = scoring_fn(_plain_text)\n",
    "        plains.append((_plain_text, _key, _score))\n",
    "    return sorted(plains, key=lambda x: x[2], reverse=False)"
   ]
  },
  {
   "cell_type": "code",
   "execution_count": 8,
   "metadata": {},
   "outputs": [],
   "source": [
    "def plot_linears(x1, y1, x2, y2):\n",
    "    plt.plot(x1, y1)\n",
    "    plt.plot(x2, y2)\n",
    "    plt.show()"
   ]
  },
  {
   "cell_type": "code",
   "execution_count": 9,
   "metadata": {},
   "outputs": [],
   "source": [
    "def scoring_fn_dummy(text: bytes):\n",
    "    return 1"
   ]
  },
  {
   "cell_type": "code",
   "execution_count": 10,
   "metadata": {},
   "outputs": [],
   "source": [
    "plains = decipher(cipher_text, scoring_fn=scoring_fn_dummy)"
   ]
  },
  {
   "cell_type": "code",
   "execution_count": 11,
   "metadata": {},
   "outputs": [
    {
     "data": {
      "text/html": [
       "<div>\n",
       "<style scoped>\n",
       "    .dataframe tbody tr th:only-of-type {\n",
       "        vertical-align: middle;\n",
       "    }\n",
       "\n",
       "    .dataframe tbody tr th {\n",
       "        vertical-align: top;\n",
       "    }\n",
       "\n",
       "    .dataframe thead th {\n",
       "        text-align: right;\n",
       "    }\n",
       "</style>\n",
       "<table border=\"1\" class=\"dataframe\">\n",
       "  <thead>\n",
       "    <tr style=\"text-align: right;\">\n",
       "      <th></th>\n",
       "      <th>Plain Text</th>\n",
       "      <th>Key</th>\n",
       "      <th>Score</th>\n",
       "    </tr>\n",
       "  </thead>\n",
       "  <tbody>\n",
       "    <tr>\n",
       "      <th>0</th>\n",
       "      <td>b'\\x9e\\x8e\\x95\\x88\\x95\\x8f\\x94\\xdc\\x88\\x8e\\x93...</td>\n",
       "      <td>0</td>\n",
       "      <td>1</td>\n",
       "    </tr>\n",
       "    <tr>\n",
       "      <th>1</th>\n",
       "      <td>b'\\x9f\\x8f\\x94\\x89\\x94\\x8e\\x95\\xdd\\x89\\x8f\\x92...</td>\n",
       "      <td>1</td>\n",
       "      <td>1</td>\n",
       "    </tr>\n",
       "    <tr>\n",
       "      <th>2</th>\n",
       "      <td>b'\\x9c\\x8c\\x97\\x8a\\x97\\x8d\\x96\\xde\\x8a\\x8c\\x91...</td>\n",
       "      <td>2</td>\n",
       "      <td>1</td>\n",
       "    </tr>\n",
       "    <tr>\n",
       "      <th>3</th>\n",
       "      <td>b'\\x9d\\x8d\\x96\\x8b\\x96\\x8c\\x97\\xdf\\x8b\\x8d\\x90...</td>\n",
       "      <td>3</td>\n",
       "      <td>1</td>\n",
       "    </tr>\n",
       "    <tr>\n",
       "      <th>4</th>\n",
       "      <td>b'\\x9a\\x8a\\x91\\x8c\\x91\\x8b\\x90\\xd8\\x8c\\x8a\\x97...</td>\n",
       "      <td>4</td>\n",
       "      <td>1</td>\n",
       "    </tr>\n",
       "    <tr>\n",
       "      <th>...</th>\n",
       "      <td>...</td>\n",
       "      <td>...</td>\n",
       "      <td>...</td>\n",
       "    </tr>\n",
       "    <tr>\n",
       "      <th>251</th>\n",
       "      <td>b\"eunsnto'suhhwt'bisbubc'dr\\x7fofqbi'fs'6377'h...</td>\n",
       "      <td>251</td>\n",
       "      <td>1</td>\n",
       "    </tr>\n",
       "    <tr>\n",
       "      <th>252</th>\n",
       "      <td>b'british troops entered cuxhaven at 1400 on 6...</td>\n",
       "      <td>252</td>\n",
       "      <td>1</td>\n",
       "    </tr>\n",
       "    <tr>\n",
       "      <th>253</th>\n",
       "      <td>b'cshuhri!usnnqr!doudsde!btyi`wdo!`u!0511!no!7...</td>\n",
       "      <td>253</td>\n",
       "      <td>1</td>\n",
       "    </tr>\n",
       "    <tr>\n",
       "      <th>254</th>\n",
       "      <td>b'`pkvkqj\"vpmmrq\"glvgpgf\"awzjctgl\"cv\"3622\"ml\"4...</td>\n",
       "      <td>254</td>\n",
       "      <td>1</td>\n",
       "    </tr>\n",
       "    <tr>\n",
       "      <th>255</th>\n",
       "      <td>b'aqjwjpk#wqllsp#fmwfqfg#`v{kbufm#bw#2733#lm#5...</td>\n",
       "      <td>255</td>\n",
       "      <td>1</td>\n",
       "    </tr>\n",
       "  </tbody>\n",
       "</table>\n",
       "<p>256 rows × 3 columns</p>\n",
       "</div>"
      ],
      "text/plain": [
       "                                            Plain Text  Key  Score\n",
       "0    b'\\x9e\\x8e\\x95\\x88\\x95\\x8f\\x94\\xdc\\x88\\x8e\\x93...    0      1\n",
       "1    b'\\x9f\\x8f\\x94\\x89\\x94\\x8e\\x95\\xdd\\x89\\x8f\\x92...    1      1\n",
       "2    b'\\x9c\\x8c\\x97\\x8a\\x97\\x8d\\x96\\xde\\x8a\\x8c\\x91...    2      1\n",
       "3    b'\\x9d\\x8d\\x96\\x8b\\x96\\x8c\\x97\\xdf\\x8b\\x8d\\x90...    3      1\n",
       "4    b'\\x9a\\x8a\\x91\\x8c\\x91\\x8b\\x90\\xd8\\x8c\\x8a\\x97...    4      1\n",
       "..                                                 ...  ...    ...\n",
       "251  b\"eunsnto'suhhwt'bisbubc'dr\\x7fofqbi'fs'6377'h...  251      1\n",
       "252  b'british troops entered cuxhaven at 1400 on 6...  252      1\n",
       "253  b'cshuhri!usnnqr!doudsde!btyi`wdo!`u!0511!no!7...  253      1\n",
       "254  b'`pkvkqj\"vpmmrq\"glvgpgf\"awzjctgl\"cv\"3622\"ml\"4...  254      1\n",
       "255  b'aqjwjpk#wqllsp#fmwfqfg#`v{kbufm#bw#2733#lm#5...  255      1\n",
       "\n",
       "[256 rows x 3 columns]"
      ]
     },
     "execution_count": 11,
     "metadata": {},
     "output_type": "execute_result"
    }
   ],
   "source": [
    "pd.DataFrame(plains, columns=[\"Plain Text\", \"Key\", \"Score\"])"
   ]
  },
  {
   "cell_type": "code",
   "execution_count": 12,
   "metadata": {},
   "outputs": [],
   "source": [
    "def scoring_fn_maxfit(text: bytes):\n",
    "    freqs = {\n",
    "        'a': 0.08167, 'b': 0.01492, 'c': 0.02782, 'd': 0.04253,\n",
    "        'e': 0.12702, 'f': 0.02228, 'g': 0.02015, 'h': 0.06094,\n",
    "        'i': 0.06094, 'j': 0.00153, 'k': 0.00772, 'l': 0.04025,\n",
    "        'm': 0.02406, 'n': 0.06749, 'o': 0.07507, 'p': 0.01929,\n",
    "        'q': 0.00095, 'r': 0.05987, 's': 0.06327, 't': 0.09056,\n",
    "        'u': 0.02758, 'v': 0.00978, 'w': 0.02360, 'x': 0.00150,\n",
    "        'y': 0.01974, 'z': 0.00074, # ' ': 0.13000\n",
    "    }\n",
    "    counter = Counter(text)\n",
    "    x1, y1 = list(freqs.keys()), [(counter.get(ord(k), 0) * 100)/len(text) for k in freqs]\n",
    "    x2, y2 = list(freqs.keys()), [(v * 100)/sum(freqs.values()) for v in freqs.values()]\n",
    "    return sum([abs(a - b) for a, b in zip(y1, y2)])/len(y2)"
   ]
  },
  {
   "cell_type": "code",
   "execution_count": 13,
   "metadata": {},
   "outputs": [],
   "source": [
    "plains = decipher(cipher_text, scoring_fn=scoring_fn_maxfit)"
   ]
  },
  {
   "cell_type": "code",
   "execution_count": 14,
   "metadata": {},
   "outputs": [
    {
     "data": {
      "text/plain": [
       "(b'british troops entered cuxhaven at 1400 on 6 may - from now on all radio traffic will cease - wishing you all the best. lt kunkel.',\n",
       " 252,\n",
       " 1.2800989323181917)"
      ]
     },
     "execution_count": 14,
     "metadata": {},
     "output_type": "execute_result"
    }
   ],
   "source": [
    "plains[0]"
   ]
  },
  {
   "cell_type": "code",
   "execution_count": 15,
   "metadata": {},
   "outputs": [
    {
     "data": {
      "text/html": [
       "<div>\n",
       "<style scoped>\n",
       "    .dataframe tbody tr th:only-of-type {\n",
       "        vertical-align: middle;\n",
       "    }\n",
       "\n",
       "    .dataframe tbody tr th {\n",
       "        vertical-align: top;\n",
       "    }\n",
       "\n",
       "    .dataframe thead th {\n",
       "        text-align: right;\n",
       "    }\n",
       "</style>\n",
       "<table border=\"1\" class=\"dataframe\">\n",
       "  <thead>\n",
       "    <tr style=\"text-align: right;\">\n",
       "      <th></th>\n",
       "      <th>Plain Text</th>\n",
       "      <th>Key</th>\n",
       "      <th>Score</th>\n",
       "    </tr>\n",
       "  </thead>\n",
       "  <tbody>\n",
       "    <tr>\n",
       "      <th>0</th>\n",
       "      <td>b'british troops entered cuxhaven at 1400 on 6...</td>\n",
       "      <td>252</td>\n",
       "      <td>1.280099</td>\n",
       "    </tr>\n",
       "    <tr>\n",
       "      <th>1</th>\n",
       "      <td>b'cshuhri!usnnqr!doudsde!btyi`wdo!`u!0511!no!7...</td>\n",
       "      <td>253</td>\n",
       "      <td>2.440608</td>\n",
       "    </tr>\n",
       "    <tr>\n",
       "      <th>2</th>\n",
       "      <td>b\"eunsnto'suhhwt'bisbubc'dr\\x7fofqbi'fs'6377'h...</td>\n",
       "      <td>251</td>\n",
       "      <td>2.582544</td>\n",
       "    </tr>\n",
       "    <tr>\n",
       "      <th>3</th>\n",
       "      <td>b'dtoroun&amp;rtiivu&amp;chrctcb&amp;es~ngpch&amp;gr&amp;7266&amp;ih&amp;0...</td>\n",
       "      <td>250</td>\n",
       "      <td>2.600830</td>\n",
       "    </tr>\n",
       "    <tr>\n",
       "      <th>4</th>\n",
       "      <td>b'yirorhs;oittkh;~uo~i~\\x7f;xncszm~u;zo;*/++;t...</td>\n",
       "      <td>231</td>\n",
       "      <td>2.618637</td>\n",
       "    </tr>\n",
       "    <tr>\n",
       "      <th>...</th>\n",
       "      <td>...</td>\n",
       "      <td>...</td>\n",
       "      <td>...</td>\n",
       "    </tr>\n",
       "    <tr>\n",
       "      <th>251</th>\n",
       "      <td>b')9\"?\"8#k?9$$;8k.%?.9./k(&gt;3#*=.%k*?kz\\x7f{{k$...</td>\n",
       "      <td>183</td>\n",
       "      <td>4.431391</td>\n",
       "    </tr>\n",
       "    <tr>\n",
       "      <th>252</th>\n",
       "      <td>b'4$?\"?%&gt;v\"$99&amp;%v38\"3$32v5#.&gt;7 38v7\"vgbffv98v`...</td>\n",
       "      <td>170</td>\n",
       "      <td>4.439094</td>\n",
       "    </tr>\n",
       "    <tr>\n",
       "      <th>253</th>\n",
       "      <td>b'{kpmpjq9mkvvij9|wm|k|}9zlaqxo|w9xm9(-))9vw9/...</td>\n",
       "      <td>229</td>\n",
       "      <td>4.449043</td>\n",
       "    </tr>\n",
       "    <tr>\n",
       "      <th>254</th>\n",
       "      <td>b'3#8%8\"9q%#&gt;&gt;!\"q4?%4#45q2$)90\\'4?q0%q`eaaq&gt;?q...</td>\n",
       "      <td>173</td>\n",
       "      <td>4.460084</td>\n",
       "    </tr>\n",
       "    <tr>\n",
       "      <th>255</th>\n",
       "      <td>b'(8#&gt;#9\"j&gt;8%%:9j/$&gt;/8/.j)?2\"+&lt;/$j+&gt;j{~zzj%$j|...</td>\n",
       "      <td>182</td>\n",
       "      <td>4.509012</td>\n",
       "    </tr>\n",
       "  </tbody>\n",
       "</table>\n",
       "<p>256 rows × 3 columns</p>\n",
       "</div>"
      ],
      "text/plain": [
       "                                            Plain Text  Key     Score\n",
       "0    b'british troops entered cuxhaven at 1400 on 6...  252  1.280099\n",
       "1    b'cshuhri!usnnqr!doudsde!btyi`wdo!`u!0511!no!7...  253  2.440608\n",
       "2    b\"eunsnto'suhhwt'bisbubc'dr\\x7fofqbi'fs'6377'h...  251  2.582544\n",
       "3    b'dtoroun&rtiivu&chrctcb&es~ngpch&gr&7266&ih&0...  250  2.600830\n",
       "4    b'yirorhs;oittkh;~uo~i~\\x7f;xncszm~u;zo;*/++;t...  231  2.618637\n",
       "..                                                 ...  ...       ...\n",
       "251  b')9\"?\"8#k?9$$;8k.%?.9./k(>3#*=.%k*?kz\\x7f{{k$...  183  4.431391\n",
       "252  b'4$?\"?%>v\"$99&%v38\"3$32v5#.>7 38v7\"vgbffv98v`...  170  4.439094\n",
       "253  b'{kpmpjq9mkvvij9|wm|k|}9zlaqxo|w9xm9(-))9vw9/...  229  4.449043\n",
       "254  b'3#8%8\"9q%#>>!\"q4?%4#45q2$)90\\'4?q0%q`eaaq>?q...  173  4.460084\n",
       "255  b'(8#>#9\"j>8%%:9j/$>/8/.j)?2\"+</$j+>j{~zzj%$j|...  182  4.509012\n",
       "\n",
       "[256 rows x 3 columns]"
      ]
     },
     "execution_count": 15,
     "metadata": {},
     "output_type": "execute_result"
    }
   ],
   "source": [
    "pd.DataFrame(plains, columns=[\"Plain Text\", \"Key\", \"Score\"])"
   ]
  },
  {
   "cell_type": "code",
   "execution_count": null,
   "metadata": {},
   "outputs": [],
   "source": []
  },
  {
   "cell_type": "code",
   "execution_count": null,
   "metadata": {},
   "outputs": [],
   "source": []
  },
  {
   "cell_type": "code",
   "execution_count": null,
   "metadata": {},
   "outputs": [],
   "source": []
  },
  {
   "cell_type": "code",
   "execution_count": 16,
   "metadata": {},
   "outputs": [],
   "source": [
    "sentences = [\n",
    "    b'His mind was blown that there was nothing in space except space itself.',\n",
    "    b'I love bacon, beer, birds, and baboons.',\n",
    "    b'With a single flip of the coin, his life changed forever.',\n",
    "    b'If you like tuna and tomato sauce - try combining the two. It\\'s really not as bad as it sounds.',\n",
    "    b'The view from the lighthouse excited even the most seasoned traveler.',\n",
    "    b'The small white buoys marked the location of hundreds of crab pots.',\n",
    "    b'Be careful with that butter knife.',\n",
    "    b'We have young kids who often walk into our room at night for various reasons including clowns in the closet.',\n",
    "    b'Mary plays the piano.',\n",
    "    b'The lake is a long way from here.',\n",
    "    b'Buried deep in the snow, he hoped his batteries were fresh in his avalanche beacon.',\n",
    "    b'Swim at your own risk was taken as a challenge for the group of Kansas City college students.',\n",
    "    b'Peanut butter and jelly caused the elderly lady to think about her past.',\n",
    "    b'They say that dogs are man\\'s best friend, but this cat was setting out to sabotage that theory.',\n",
    "    b'He found a leprechaun in his walnut shell.',\n",
    "    b'She traveled because it cost the same as therapy and was a lot more enjoyable.',\n",
    "    b'Had he known what was going to happen, he would have never stepped into the shower.',\n",
    "    b'She wanted a pet platypus but ended up getting a duck and a ferret instead.',\n",
    "    b'The near-death experience brought new ideas to light.',\n",
    "    b'I was very proud of my nickname throughout high school but today - I couldn\\'t be any different to what my nickname was.',\n",
    "    b'It\\'s not often you find a soggy banana on the street.',\n",
    "    b'The doll spun around in circles in hopes of coming alive.',\n",
    "    b'You\\'re unsure whether or not to trust him, but very thankful that you wore a turtle neck.',\n",
    "    b'Shakespeare was a famous 17th-century diesel mechanic.',\n",
    "    b'There\\'s a message for you if you look up.',\n",
    "    b'She had the gift of being able to paint songs.',\n",
    "    b'Hit me with your pet shark!',\n",
    "    b'Abstraction is often one floor above you.',\n",
    "    b'David subscribes to the \"stuff your tent into the bag\" strategy over nicely folding it.',\n",
    "    b'The rusty nail stood erect, angled at a 45-degree angle, just waiting for the perfect barefoot to come along.',\n",
    "    b'Joyce enjoyed eating pancakes with ketchup.',\n",
    "    b'Let me help you with your baggage.',\n",
    "    b'The door slammed on the watermelon.',\n",
    "    b'The tour bus was packed with teenage girls heading toward their next adventure.',\n",
    "    b'The skeleton had skeletons of his own in the closet.',\n",
    "    b'25 years later, she still regretted that specific moment.',\n",
    "    b'There were three sphered rocks congregating in a cubed room.',\n",
    "    b'The thick foliage and intertwined vines made the hike nearly impossible.',\n",
    "    b'The stranger officiates the meal.',\n",
    "    b'She says she has the ability to hear the soundtrack of your life.',\n",
    "    b'I am counting my calories, yet I really want dessert.',\n",
    "    b'He had unknowingly taken up sleepwalking as a nighttime hobby.',\n",
    "    b'I\\'m confused: when people ask me what\\'s up, and I point, they groan.',\n",
    "    b'He\\'s in a boy band which doesn\\'t make much sense for a snake.',\n",
    "    b'Combines are no longer just for farms.',\n",
    "    b'There are few things better in life than a slice of pie.',\n",
    "    b'Greetings from the galaxy MACS0647-JD, or what we call home.',\n",
    "    b'She was the type of girl who wanted to live in a pink house.',\n",
    "    b'Smoky the Bear secretly started the fires.',\n",
    "    b'He didn\\'t understand why the bird wanted to ride the bicycle.',\n",
    "    b'He quietly entered the museum as the super bowl started.',\n",
    "    b'Nobody loves a pig wearing lipstick.',\n",
    "    b'Shakespeare was a famous 17th-century diesel mechanic.',\n",
    "    b'He had decided to accept his fate of accepting his fate.',\n",
    "    b'She saw no irony asking me to change but wanting me to accept her for who she is.',\n",
    "    b'The lyrics of the song sounded like fingernails on a chalkboard.',\n",
    "    b'Various sea birds are elegant, but nothing is as elegant as a gliding pelican.',\n",
    "    b'The newly planted trees were held up by wooden frames in hopes they could survive the next storm.',\n",
    "    b'She only paints with bold colors; she does not like pastels.',\n",
    "    b'The urgent care center was flooded with patients after the news of a new deadly virus was made public.',\n",
    "    b'The light in his life was actually a fire burning all around him.',\n",
    "    b'I would have gotten the promotion, but my attendance wasn\\'t good enough.',\n",
    "    b'He had a hidden stash underneath the floorboards in the back room of the house.',\n",
    "    b'There can never be too many cherries on an ice cream sundae.',\n",
    "    b'The thunderous roar of the jet overhead confirmed her worst fears.',\n",
    "    b'We should play with legos at camp.',\n",
    "    b'He was surprised that his immense laziness was inspirational to others.',\n",
    "    b'Bill ran from the giraffe toward the dolphin.',\n",
    "    b'The waves were crashing on the shore; it was a lovely sight.',\n",
    "    b'Check back tomorrow; I will see if the book has arrived.',\n",
    "    b'The irony of the situation wasn\\'t lost on anyone in the room.',\n",
    "    b'Her hair was windswept as she rode in the black convertible.',\n",
    "    b'It was the scarcity that fueled his creativity.',\n",
    "    b'Everyone says they love nature until they realize how dangerous she can be.',\n",
    "    b'Sometimes, all you need to do is completely make an ass of yourself and laugh it off to realise that life isn\\'t so bad after all.',\n",
    "    b'You\\'re unsure whether or not to trust him, but very thankful that you wore a turtle neck.',\n",
    "    b'She found his complete dullness interesting.',\n",
    "    b'The paintbrush was angry at the color the artist chose to use.',\n",
    "    b'his seven-layer cake only had six layers.',\n",
    "    b'Even though he thought the world was flat he didn\\'t see the irony of wanting to travel around the world.',\n",
    "    b'She tilted her head back and let whip cream stream into her mouth while taking a bath.',\n",
    "    b'She hadn\\'t had her cup of coffee, and that made things all the worse.',\n",
    "    b'Flying fish few by the space station.',\n",
    "    b'The blinking lights of the antenna tower came into focus just as I heard a loud snap.',\n",
    "    b'He poured rocks in the dungeon of his mind.',\n",
    "    b'Sometimes it is better to just walk away from things and go back to them later when you\\'re in a better frame of mind.',\n",
    "    b'There\\'s an art to getting your way, and spitting olive pits across the table isn\\'t it.',\n",
    "    b'I am counting my calories, yet I really want dessert.',\n",
    "    b'As you consider all the possible ways to improve yourself and the world, you notice John Travolta seems fairly unhappy.',\n",
    "    b'After exploring the abandoned building, he started to believe in ghosts.',\n",
    "    b'He invested some skill points in Charisma and Strength.',\n",
    "    b'The blue parrot drove by the hitchhiking mongoose.',\n",
    "    b'Had he known what was going to happen, he would have never stepped into the shower.',\n",
    "    b'It was a slippery slope and he was willing to slide all the way to the deepest depths.',\n",
    "    b'Going from child, to childish, to childlike is only a matter of time.',\n",
    "    b'The door slammed on the watermelon.',\n",
    "    b'They got there early, and they got really good seats.',\n",
    "    b'There was coal in his stocking and he was thrilled.',\n",
    "    b'He is good at eating pickles and telling women about his emotional problems.',\n",
    "    b'The three-year-old girl ran down the beach as the kite flew behind her.',\n",
    "]"
   ]
  },
  {
   "cell_type": "code",
   "execution_count": 20,
   "metadata": {},
   "outputs": [],
   "source": [
    "for sentence in sentences:\n",
    "    sentence = sentence.lower()\n",
    "    key = random.randint(1, 255)\n",
    "    ct = encrypt_single_xor(sentence, key)\n",
    "    pts = decipher(ct, scoring_fn=scoring_fn_maxfit)\n",
    "    try:\n",
    "        assert pts[0][1] == key\n",
    "    except AssertionError as e:\n",
    "        print(pts[0][1], key, sentence, pts[0][0], pts.index(list(filter(lambda x: x[1] == key, pts))[0]))"
   ]
  }
 ],
 "metadata": {
  "kernelspec": {
   "display_name": "Python 3",
   "language": "python",
   "name": "python3"
  },
  "language_info": {
   "codemirror_mode": {
    "name": "ipython",
    "version": 3
   },
   "file_extension": ".py",
   "mimetype": "text/x-python",
   "name": "python",
   "nbconvert_exporter": "python",
   "pygments_lexer": "ipython3",
   "version": "3.7.6"
  }
 },
 "nbformat": 4,
 "nbformat_minor": 4
}
