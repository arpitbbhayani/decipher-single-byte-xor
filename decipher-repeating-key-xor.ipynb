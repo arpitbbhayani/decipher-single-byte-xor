{
 "cells": [
  {
   "cell_type": "markdown",
   "metadata": {},
   "source": [
    "# Decipher Repeating-Key XOR"
   ]
  },
  {
   "cell_type": "code",
   "execution_count": 20,
   "metadata": {},
   "outputs": [],
   "source": [
    "import random\n",
    "import string\n",
    "import pandas as pd\n",
    "import matplotlib.pyplot as plt\n",
    "\n",
    "from collections import Counter\n",
    "from typing import List, Tuple"
   ]
  },
  {
   "cell_type": "code",
   "execution_count": 21,
   "metadata": {},
   "outputs": [],
   "source": [
    "plain_text = b'British troops entered Cuxhaven at 1400 on 6 May - from now on all radio traffic will cease - wishing you all the best. Lt Kunkel.'"
   ]
  },
  {
   "cell_type": "code",
   "execution_count": 22,
   "metadata": {},
   "outputs": [],
   "source": [
    "plain_text = plain_text.lower()"
   ]
  },
  {
   "cell_type": "code",
   "execution_count": 23,
   "metadata": {},
   "outputs": [
    {
     "data": {
      "text/plain": [
       "b'british troops entered cuxhaven at 1400 on 6 may - from now on all radio traffic will cease - wishing you all the best. lt kunkel.'"
      ]
     },
     "execution_count": 23,
     "metadata": {},
     "output_type": "execute_result"
    }
   ],
   "source": [
    "plain_text"
   ]
  },
  {
   "cell_type": "code",
   "execution_count": 39,
   "metadata": {},
   "outputs": [],
   "source": [
    "key = b'$^'"
   ]
  },
  {
   "cell_type": "code",
   "execution_count": 27,
   "metadata": {},
   "outputs": [],
   "source": [
    "def repeating_key_xor(text: bytes, key: bytes) -> bytes:\n",
    "    key = (key * (len(plain_text)//len(key) + 1))[:len(plain_text)]\n",
    "    return bytes([b ^ k for b, k in zip(text, key)])"
   ]
  },
  {
   "cell_type": "code",
   "execution_count": 8,
   "metadata": {},
   "outputs": [
    {
     "data": {
      "text/plain": [
       "[97, 98, 99, 100]"
      ]
     },
     "execution_count": 8,
     "metadata": {},
     "output_type": "execute_result"
    }
   ],
   "source": [
    "list(b'abcdefghijkl')"
   ]
  },
  {
   "cell_type": "code",
   "execution_count": 34,
   "metadata": {},
   "outputs": [
    {
     "data": {
      "text/plain": [
       "b'E<G:A8C6M4O2'"
      ]
     },
     "execution_count": 34,
     "metadata": {},
     "output_type": "execute_result"
    }
   ],
   "source": [
    "repeating_key_xor(b'abcdefghijkl', b'$^')"
   ]
  },
  {
   "cell_type": "code",
   "execution_count": 35,
   "metadata": {},
   "outputs": [
    {
     "data": {
      "text/plain": [
       "[69, 60, 71, 58, 65, 56, 67, 54, 77, 52, 79, 50]"
      ]
     },
     "execution_count": 35,
     "metadata": {},
     "output_type": "execute_result"
    }
   ],
   "source": [
    "list(repeating_key_xor(b'abcdefghijkl', b'$^'))"
   ]
  },
  {
   "cell_type": "code",
   "execution_count": 48,
   "metadata": {},
   "outputs": [
    {
     "data": {
      "text/plain": [
       "b'abcdefghijkl'"
      ]
     },
     "execution_count": 48,
     "metadata": {},
     "output_type": "execute_result"
    }
   ],
   "source": [
    "repeating_key_xor(b'E<G:A8C6M4O2', b'$^')"
   ]
  },
  {
   "cell_type": "code",
   "execution_count": 40,
   "metadata": {},
   "outputs": [],
   "source": [
    "cipher_text = repeating_key_xor(plain_text, key)"
   ]
  },
  {
   "cell_type": "code",
   "execution_count": 41,
   "metadata": {},
   "outputs": [
    {
     "data": {
      "text/plain": [
       "b\"F,M*M-L~P,K1T-\\x04;J*A,A:\\x04=Q&L?R;J~E*\\x04o\\x10n\\x14~K0\\x04h\\x043E'\\x04s\\x048V1I~J1S~K0\\x04?H2\\x04,E:M1\\x04*V?B8M=\\x04)M2H~G;E-A~\\t~S7W6M0C~]1Q~E2H~P6A~F;W*\\n~H*\\x045Q0O;Hp\""
      ]
     },
     "execution_count": 41,
     "metadata": {},
     "output_type": "execute_result"
    }
   ],
   "source": [
    "cipher_text"
   ]
  },
  {
   "cell_type": "code",
   "execution_count": 14,
   "metadata": {},
   "outputs": [],
   "source": [
    "def plot_linears(dist_1, dist_2, title=None):\n",
    "    plt.plot(list(string.ascii_lowercase), dist_1, label=\"Distribution English\")\n",
    "    plt.plot(list(string.ascii_lowercase), dist_2, label=\"Distribution Text\")\n",
    "    plt.xlabel('Letters')\n",
    "    plt.ylabel('Frequency (percentage)')\n",
    "    plt.title(title)\n",
    "    plt.legend()\n",
    "    plt.show()"
   ]
  },
  {
   "cell_type": "code",
   "execution_count": 15,
   "metadata": {},
   "outputs": [],
   "source": [
    "occurance_english = {\n",
    "    'a': 8.2389258,    'b': 1.5051398,    'c': 2.8065007,    'd': 4.2904556,\n",
    "    'e': 12.813865,    'f': 2.2476217,    'g': 2.0327458,    'h': 6.1476691,\n",
    "    'i': 6.1476691,    'j': 0.1543474,    'k': 0.7787989,    'l': 4.0604477,\n",
    "    'm': 2.4271893,    'n': 6.8084376,    'o': 7.5731132,    'p': 1.9459884,\n",
    "    'q': 0.0958366,    'r': 6.0397268,    's': 6.3827211,    't': 9.1357551,\n",
    "    'u': 2.7822893,    'v': 0.9866131,    'w': 2.3807842,    'x': 0.1513210,\n",
    "    'y': 1.9913847,    'z': 0.0746517\n",
    "}\n",
    "\n",
    "dist_english = list(occurance_english.values())\n",
    "\n",
    "def compute_fitting_quotient(text: bytes, plot=False, title=None) -> float:\n",
    "    \"\"\"Given the stream of bytes `text` the function computes the fitting\n",
    "    quotient of the letter frequency distribution for `text` with the\n",
    "    letter frequency distribution of the English language.\n",
    "\n",
    "    The function returns the average of absolute difference between the\n",
    "    frequencies (in percentage) of letters in `text` and the corresponding\n",
    "    letter in the English Language.\n",
    "    \"\"\"\n",
    "    counter = Counter(text)\n",
    "    dist_text = [\n",
    "        (counter.get(ord(ch), 0) * 100) / len(text)\n",
    "        for ch in occurance_english\n",
    "    ]\n",
    "\n",
    "    if plot:\n",
    "        plot_linears(dist_english, dist_text, title=title)\n",
    "\n",
    "    return sum([abs(a - b) for a, b in zip(dist_english, dist_text)]) / len(dist_text)"
   ]
  },
  {
   "cell_type": "code",
   "execution_count": 16,
   "metadata": {},
   "outputs": [],
   "source": [
    "def decipher(text: bytes, plot=False) -> Tuple[bytes, int]:\n",
    "    \"\"\"The function deciphers an encrypted text using Single Byte XOR and returns\n",
    "    the original plain text message and the encryption key.\n",
    "    \"\"\"\n",
    "    original_text, encryption_key, min_fq = None, None, None\n",
    "    for k in range(256):\n",
    "        # we generate the plain text using key `k`\n",
    "        _text = single_byte_xor(text, k)\n",
    "        \n",
    "        # we compute the fitting quotient for this generated plain text\n",
    "        _fq = compute_fitting_quotient(_text, plot=plot, title=f\"Key: {k}\")\n",
    "        \n",
    "        # if the generated fitting quotient is lesser than the min_fq we've seen\n",
    "        # then update the key and plain_text.\n",
    "        if min_fq is None or _fq < min_fq:\n",
    "            encryption_key, original_text, min_fq = k, _text, _fq\n",
    "\n",
    "    # return the plain_text and the key with the minimum fitting quotient.\n",
    "    return original_text, encryption_key"
   ]
  },
  {
   "cell_type": "code",
   "execution_count": 17,
   "metadata": {},
   "outputs": [],
   "source": [
    "assert decipher(cipher_text) == (plain_text, key,)"
   ]
  },
  {
   "cell_type": "code",
   "execution_count": 18,
   "metadata": {},
   "outputs": [],
   "source": [
    "sentences = [\n",
    "    b'His mind was blown that there was nothing in space except space itself.',\n",
    "    b'I love bacon, beer, birds, and baboons.',\n",
    "    b'With a single flip of the coin, his life changed forever.',\n",
    "    b'If you like tuna and tomato sauce - try combining the two. It\\'s really not as bad as it sounds.',\n",
    "    b'The view from the lighthouse excited even the most seasoned traveler.',\n",
    "    b'The small white buoys marked the location of hundreds of crab pots.',\n",
    "    b'Be careful with that butter knife.',\n",
    "    b'We have young kids who often walk into our room at night for various reasons including clowns in the closet.',\n",
    "    b'Mary plays the piano.',\n",
    "    b'The lake is a long way from here.',\n",
    "    b'Buried deep in the snow, he hoped his batteries were fresh in his avalanche beacon.',\n",
    "    b'Swim at your own risk was taken as a challenge for the group of Kansas City college students.',\n",
    "    b'Peanut butter and jelly caused the elderly lady to think about her past.',\n",
    "    b'They say that dogs are man\\'s best friend, but this cat was setting out to sabotage that theory.',\n",
    "    b'He found a leprechaun in his walnut shell.',\n",
    "    b'She traveled because it cost the same as therapy and was a lot more enjoyable.',\n",
    "    b'Had he known what was going to happen, he would have never stepped into the shower.',\n",
    "    b'She wanted a pet platypus but ended up getting a duck and a ferret instead.',\n",
    "    b'The near-death experience brought new ideas to light.',\n",
    "    b'I was very proud of my nickname throughout high school but today - I couldn\\'t be any different to what my nickname was.',\n",
    "    b'It\\'s not often you find a soggy banana on the street.',\n",
    "    b'The doll spun around in circles in hopes of coming alive.',\n",
    "    b'You\\'re unsure whether or not to trust him, but very thankful that you wore a turtle neck.',\n",
    "    b'Shakespeare was a famous 17th-century diesel mechanic.',\n",
    "    b'There\\'s a message for you if you look up.',\n",
    "    b'She had the gift of being able to paint songs.',\n",
    "    b'Hit me with your pet shark!',\n",
    "    b'Abstraction is often one floor above you.',\n",
    "    b'David subscribes to the \"stuff your tent into the bag\" strategy over nicely folding it.',\n",
    "    b'The rusty nail stood erect, angled at a 45-degree angle, just waiting for the perfect barefoot to come along.',\n",
    "    b'Joyce enjoyed eating pancakes with ketchup.',\n",
    "    b'Let me help you with your baggage.',\n",
    "    b'The door slammed on the watermelon.',\n",
    "    b'The tour bus was packed with teenage girls heading toward their next adventure.',\n",
    "    b'The skeleton had skeletons of his own in the closet.',\n",
    "    b'25 years later, she still regretted that specific moment.',\n",
    "    b'There were three sphered rocks congregating in a cubed room.',\n",
    "    b'The thick foliage and intertwined vines made the hike nearly impossible.',\n",
    "    b'The stranger officiates the meal.',\n",
    "    b'She says she has the ability to hear the soundtrack of your life.',\n",
    "    b'I am counting my calories, yet I really want dessert.',\n",
    "    b'He had unknowingly taken up sleepwalking as a nighttime hobby.',\n",
    "    b'I\\'m confused: when people ask me what\\'s up, and I point, they groan.',\n",
    "    b'He\\'s in a boy band which doesn\\'t make much sense for a snake.',\n",
    "    b'Combines are no longer just for farms.',\n",
    "    b'There are few things better in life than a slice of pie.',\n",
    "    b'Greetings from the galaxy MACS0647-JD, or what we call home.',\n",
    "    b'She was the type of girl who wanted to live in a pink house.',\n",
    "    b'Smoky the Bear secretly started the fires.',\n",
    "    b'He didn\\'t understand why the bird wanted to ride the bicycle.',\n",
    "    b'He quietly entered the museum as the super bowl started.',\n",
    "    b'Nobody loves a pig wearing lipstick.',\n",
    "    b'Shakespeare was a famous 17th-century diesel mechanic.',\n",
    "    b'He had decided to accept his fate of accepting his fate.',\n",
    "    b'She saw no irony asking me to change but wanting me to accept her for who she is.',\n",
    "    b'The lyrics of the song sounded like fingernails on a chalkboard.',\n",
    "    b'Various sea birds are elegant, but nothing is as elegant as a gliding pelican.',\n",
    "    b'The newly planted trees were held up by wooden frames in hopes they could survive the next storm.',\n",
    "    b'She only paints with bold colors; she does not like pastels.',\n",
    "    b'The urgent care center was flooded with patients after the news of a new deadly virus was made public.',\n",
    "    b'The light in his life was actually a fire burning all around him.',\n",
    "    b'I would have gotten the promotion, but my attendance wasn\\'t good enough.',\n",
    "    b'He had a hidden stash underneath the floorboards in the back room of the house.',\n",
    "    b'There can never be too many cherries on an ice cream sundae.',\n",
    "    b'The thunderous roar of the jet overhead confirmed her worst fears.',\n",
    "    b'We should play with legos at camp.',\n",
    "    b'He was surprised that his immense laziness was inspirational to others.',\n",
    "    b'Bill ran from the giraffe toward the dolphin.',\n",
    "    b'The waves were crashing on the shore; it was a lovely sight.',\n",
    "    b'Check back tomorrow; I will see if the book has arrived.',\n",
    "    b'The irony of the situation wasn\\'t lost on anyone in the room.',\n",
    "    b'Her hair was windswept as she rode in the black convertible.',\n",
    "    b'It was the scarcity that fueled his creativity.',\n",
    "    b'Everyone says they love nature until they realize how dangerous she can be.',\n",
    "    b'Sometimes, all you need to do is completely make an ass of yourself and laugh it off to realise that life isn\\'t so bad after all.',\n",
    "    b'You\\'re unsure whether or not to trust him, but very thankful that you wore a turtle neck.',\n",
    "    b'She found his complete dullness interesting.',\n",
    "    b'The paintbrush was angry at the color the artist chose to use.',\n",
    "    b'his seven-layer cake only had six layers.',\n",
    "    b'Even though he thought the world was flat he didn\\'t see the irony of wanting to travel around the world.',\n",
    "    b'She tilted her head back and let whip cream stream into her mouth while taking a bath.',\n",
    "    b'She hadn\\'t had her cup of coffee, and that made things all the worse.',\n",
    "    b'Flying fish few by the space station.',\n",
    "    b'The blinking lights of the antenna tower came into focus just as I heard a loud snap.',\n",
    "    b'He poured rocks in the dungeon of his mind.',\n",
    "    b'Sometimes it is better to just walk away from things and go back to them later when you\\'re in a better frame of mind.',\n",
    "    b'There\\'s an art to getting your way, and spitting olive pits across the table isn\\'t it.',\n",
    "    b'I am counting my calories, yet I really want dessert.',\n",
    "    b'As you consider all the possible ways to improve yourself and the world, you notice John Travolta seems fairly unhappy.',\n",
    "    b'After exploring the abandoned building, he started to believe in ghosts.',\n",
    "    b'He invested some skill points in Charisma and Strength.',\n",
    "    b'The blue parrot drove by the hitchhiking mongoose.',\n",
    "    b'Had he known what was going to happen, he would have never stepped into the shower.',\n",
    "    b'It was a slippery slope and he was willing to slide all the way to the deepest depths.',\n",
    "    b'Going from child, to childish, to childlike is only a matter of time.',\n",
    "    b'The door slammed on the watermelon.',\n",
    "    b'They got there early, and they got really good seats.',\n",
    "    b'There was coal in his stocking and he was thrilled.',\n",
    "    b'He is good at eating pickles and telling women about his emotional problems.',\n",
    "    b'The three-year-old girl ran down the beach as the kite flew behind her.',\n",
    "]"
   ]
  },
  {
   "cell_type": "code",
   "execution_count": 19,
   "metadata": {},
   "outputs": [],
   "source": [
    "for sentence in sentences:\n",
    "    sentence = sentence.lower()\n",
    "    encryption_key = random.randint(10, 220)\n",
    "    assert decipher(single_byte_xor(sentence, encryption_key)) == (sentence, encryption_key,)"
   ]
  }
 ],
 "metadata": {
  "kernelspec": {
   "display_name": "Python 3",
   "language": "python",
   "name": "python3"
  },
  "language_info": {
   "codemirror_mode": {
    "name": "ipython",
    "version": 3
   },
   "file_extension": ".py",
   "mimetype": "text/x-python",
   "name": "python",
   "nbconvert_exporter": "python",
   "pygments_lexer": "ipython3",
   "version": "3.7.6"
  }
 },
 "nbformat": 4,
 "nbformat_minor": 4
}
