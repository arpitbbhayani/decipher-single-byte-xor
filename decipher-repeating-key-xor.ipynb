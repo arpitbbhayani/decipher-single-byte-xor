{
 "cells": [
  {
   "cell_type": "markdown",
   "metadata": {},
   "source": [
    "# Decipher Repeating-Key XOR"
   ]
  },
  {
   "cell_type": "markdown",
   "metadata": {},
   "source": [
    "interesting cases: keys of repeted length also works. ex: if encoding key is of length 2. you will get same answer when length is 4.\n"
   ]
  },
  {
   "cell_type": "code",
   "execution_count": 1,
   "metadata": {},
   "outputs": [],
   "source": [
    "import math\n",
    "import random\n",
    "import string\n",
    "import pandas as pd\n",
    "import matplotlib.pyplot as plt\n",
    "\n",
    "from collections import Counter\n",
    "from typing import List, Tuple"
   ]
  },
  {
   "cell_type": "code",
   "execution_count": 2,
   "metadata": {},
   "outputs": [],
   "source": [
    "plain_text = b'British troops entered Cuxhaven at on May from now on all radio traffic will cease wishing you all the best Lt Kunkel'"
   ]
  },
  {
   "cell_type": "code",
   "execution_count": 3,
   "metadata": {},
   "outputs": [],
   "source": [
    "plain_text = plain_text.lower()"
   ]
  },
  {
   "cell_type": "code",
   "execution_count": 4,
   "metadata": {},
   "outputs": [
    {
     "data": {
      "text/plain": [
       "b'british troops entered cuxhaven at on may from now on all radio traffic will cease wishing you all the best lt kunkel'"
      ]
     },
     "execution_count": 4,
     "metadata": {},
     "output_type": "execute_result"
    }
   ],
   "source": [
    "plain_text"
   ]
  },
  {
   "cell_type": "code",
   "execution_count": 5,
   "metadata": {},
   "outputs": [],
   "source": [
    "key = b'$^'"
   ]
  },
  {
   "cell_type": "code",
   "execution_count": 6,
   "metadata": {},
   "outputs": [],
   "source": [
    "def repeating_key_xor(text: bytes, key: bytes) -> bytes:\n",
    "    key = (key * (len(plain_text)//len(key) + 1))[:len(plain_text)]\n",
    "    return bytes([b ^ k for b, k in zip(text, key)])"
   ]
  },
  {
   "cell_type": "code",
   "execution_count": 7,
   "metadata": {},
   "outputs": [
    {
     "data": {
      "text/plain": [
       "[97, 98, 99, 100, 101, 102, 103, 104, 105, 106, 107, 108]"
      ]
     },
     "execution_count": 7,
     "metadata": {},
     "output_type": "execute_result"
    }
   ],
   "source": [
    "list(b'abcdefghijkl')"
   ]
  },
  {
   "cell_type": "code",
   "execution_count": 8,
   "metadata": {},
   "outputs": [
    {
     "data": {
      "text/plain": [
       "b'E<G:A8C6M4O2'"
      ]
     },
     "execution_count": 8,
     "metadata": {},
     "output_type": "execute_result"
    }
   ],
   "source": [
    "repeating_key_xor(b'abcdefghijkl', b'$^')"
   ]
  },
  {
   "cell_type": "code",
   "execution_count": 9,
   "metadata": {},
   "outputs": [
    {
     "data": {
      "text/plain": [
       "[69, 60, 71, 58, 65, 56, 67, 54, 77, 52, 79, 50]"
      ]
     },
     "execution_count": 9,
     "metadata": {},
     "output_type": "execute_result"
    }
   ],
   "source": [
    "list(repeating_key_xor(b'abcdefghijkl', b'$^'))"
   ]
  },
  {
   "cell_type": "code",
   "execution_count": 10,
   "metadata": {},
   "outputs": [
    {
     "data": {
      "text/plain": [
       "b'abcdefghijkl'"
      ]
     },
     "execution_count": 10,
     "metadata": {},
     "output_type": "execute_result"
    }
   ],
   "source": [
    "repeating_key_xor(b'E<G:A8C6M4O2', b'$^')"
   ]
  },
  {
   "cell_type": "code",
   "execution_count": 11,
   "metadata": {},
   "outputs": [],
   "source": [
    "cipher_text = repeating_key_xor(plain_text, random.sample(range(255), 13))"
   ]
  },
  {
   "cell_type": "code",
   "execution_count": 12,
   "metadata": {},
   "outputs": [
    {
     "data": {
      "text/plain": [
       "b'k\\x18\\xc7\\x1f\\x9f\\xbf\\x01\\x95U\\xac\\x11t\\xb0zJ\\xcb\\x05\\x82\\xa9\\x1b\\xd0E\\xfe\\x1dn\\xb8a\\x0b\\xd8\\x0e\\x98\\xec\\x08\\xc1\\x01\\xb1\\x10;\\xadh\\x13\\x8e\\r\\x84\\xa3\\x04\\x95O\\xb1\\t;\\xafgJ\\xcf\\x07\\x9a\\xec\\x1b\\xd4E\\xb7\\x11;\\xb4{\\x0b\\xc8\\r\\x9f\\xafI\\xc2H\\xb2\\x12;\\xa3l\\x0b\\xdd\\x0e\\xd6\\xbb\\x00\\xc6I\\xb7\\x10|\\xe0p\\x05\\xdbK\\x97\\xa0\\x05\\x95U\\xb6\\x1b;\\xa2l\\x19\\xdaK\\x9a\\xb8I\\xdeT\\xb0\\x15~\\xac'"
      ]
     },
     "execution_count": 12,
     "metadata": {},
     "output_type": "execute_result"
    }
   ],
   "source": [
    "cipher_text"
   ]
  },
  {
   "cell_type": "markdown",
   "metadata": {},
   "source": [
    "we first need to know the key length. key length can be estimated with how close the decoding text will be to english. the proeprty that we use is that fact that english letters are very close to each other so their hamming distance will be very less."
   ]
  },
  {
   "cell_type": "code",
   "execution_count": 13,
   "metadata": {},
   "outputs": [],
   "source": [
    "def hamming_distance_bytes(text1:bytes, text2:bytes) -> int:\n",
    "    dist = 0\n",
    "    for byte1, byte2 in zip(text1, text2):\n",
    "        dist += bin(byte1 ^ byte2).count('1')\n",
    "    return dist\n",
    "\n",
    "\n",
    "def hamming_score_bytes(text1:bytes, text2:bytes) -> float:\n",
    "    return hamming_distance_bytes(text1, text2) / (8 * min(len(text1), len(text2)))"
   ]
  },
  {
   "cell_type": "code",
   "execution_count": 14,
   "metadata": {},
   "outputs": [
    {
     "data": {
      "text/plain": [
       "4"
      ]
     },
     "execution_count": 14,
     "metadata": {},
     "output_type": "execute_result"
    }
   ],
   "source": [
    "hamming_distance_bytes(b'abc', b'zb')"
   ]
  },
  {
   "cell_type": "code",
   "execution_count": 15,
   "metadata": {},
   "outputs": [
    {
     "data": {
      "text/plain": [
       "0.25"
      ]
     },
     "execution_count": 15,
     "metadata": {},
     "output_type": "execute_result"
    }
   ],
   "source": [
    "hamming_score_bytes(b'abc', b'zb')"
   ]
  },
  {
   "cell_type": "code",
   "execution_count": 16,
   "metadata": {},
   "outputs": [],
   "source": [
    "def plot_linears(keys, scores, title=None):\n",
    "    plt.plot(keys, scores, label=\"Distribution English\")\n",
    "    plt.xlabel('Key Lengths')\n",
    "    plt.ylabel('Normalized Hamming Score')\n",
    "    plt.title(title)\n",
    "    plt.legend()\n",
    "    plt.show()"
   ]
  },
  {
   "cell_type": "code",
   "execution_count": 17,
   "metadata": {},
   "outputs": [],
   "source": [
    "def compute_key_length(text: bytes, plot=False) -> int:\n",
    "    \"\"\"The function will try to minimize the hamming distance between the two\n",
    "    \n",
    "    assumption \n",
    "    \"\"\"\n",
    "    keys, scores = [], []\n",
    "    min_score, key_len = None, None\n",
    "    for klen in range(2, len(text)//2 + 1):\n",
    "        if plot:\n",
    "            print(f\"trying keylen {klen}, len(text) = {len(text)}\")\n",
    "        chunks = [\n",
    "            text[i: i+klen]\n",
    "            for i in range(0, len(text), klen)\n",
    "        ]\n",
    "        if len(chunks) >= 2 and len(chunks[-1]) <= len(chunks[-2])/2:\n",
    "            chunks.pop()\n",
    "        \n",
    "        _scores = []\n",
    "        if plot:\n",
    "            print(klen, [len(c) for c in chunks])\n",
    "        for i in range(0, len(chunks) - 1, 1):\n",
    "            for j in range(i+1, len(chunks), 1):\n",
    "                # if plot:\n",
    "                    # print(len(chunks[i]), len(chunks[j]))\n",
    "                    \n",
    "                score = hamming_score_bytes(chunks[i], chunks[j])\n",
    "                _scores.append(score)\n",
    "\n",
    "        score = sum(_scores) / len(_scores)\n",
    "        \n",
    "        if plot:\n",
    "            keys.append(klen)\n",
    "            scores.append(score)\n",
    "\n",
    "        if min_score is None or score < min_score:\n",
    "            min_score, key_len = score, klen\n",
    "\n",
    "    if plot:\n",
    "        plot_linears(keys, scores, title=\"Score vs Key Lengths\")\n",
    "    return key_len"
   ]
  },
  {
   "cell_type": "code",
   "execution_count": 18,
   "metadata": {},
   "outputs": [
    {
     "name": "stdout",
     "output_type": "stream",
     "text": [
      "trying keylen 2, len(text) = 117\n",
      "2 [2, 2, 2, 2, 2, 2, 2, 2, 2, 2, 2, 2, 2, 2, 2, 2, 2, 2, 2, 2, 2, 2, 2, 2, 2, 2, 2, 2, 2, 2, 2, 2, 2, 2, 2, 2, 2, 2, 2, 2, 2, 2, 2, 2, 2, 2, 2, 2, 2, 2, 2, 2, 2, 2, 2, 2, 2, 2]\n",
      "trying keylen 3, len(text) = 117\n",
      "3 [3, 3, 3, 3, 3, 3, 3, 3, 3, 3, 3, 3, 3, 3, 3, 3, 3, 3, 3, 3, 3, 3, 3, 3, 3, 3, 3, 3, 3, 3, 3, 3, 3, 3, 3, 3, 3, 3, 3]\n",
      "trying keylen 4, len(text) = 117\n",
      "4 [4, 4, 4, 4, 4, 4, 4, 4, 4, 4, 4, 4, 4, 4, 4, 4, 4, 4, 4, 4, 4, 4, 4, 4, 4, 4, 4, 4, 4]\n",
      "trying keylen 5, len(text) = 117\n",
      "5 [5, 5, 5, 5, 5, 5, 5, 5, 5, 5, 5, 5, 5, 5, 5, 5, 5, 5, 5, 5, 5, 5, 5]\n",
      "trying keylen 6, len(text) = 117\n",
      "6 [6, 6, 6, 6, 6, 6, 6, 6, 6, 6, 6, 6, 6, 6, 6, 6, 6, 6, 6]\n",
      "trying keylen 7, len(text) = 117\n",
      "7 [7, 7, 7, 7, 7, 7, 7, 7, 7, 7, 7, 7, 7, 7, 7, 7, 5]\n",
      "trying keylen 8, len(text) = 117\n",
      "8 [8, 8, 8, 8, 8, 8, 8, 8, 8, 8, 8, 8, 8, 8, 5]\n",
      "trying keylen 9, len(text) = 117\n",
      "9 [9, 9, 9, 9, 9, 9, 9, 9, 9, 9, 9, 9, 9]\n",
      "trying keylen 10, len(text) = 117\n",
      "10 [10, 10, 10, 10, 10, 10, 10, 10, 10, 10, 10, 7]\n",
      "trying keylen 11, len(text) = 117\n",
      "11 [11, 11, 11, 11, 11, 11, 11, 11, 11, 11, 7]\n",
      "trying keylen 12, len(text) = 117\n",
      "12 [12, 12, 12, 12, 12, 12, 12, 12, 12, 9]\n",
      "trying keylen 13, len(text) = 117\n",
      "13 [13, 13, 13, 13, 13, 13, 13, 13, 13]\n",
      "trying keylen 14, len(text) = 117\n",
      "14 [14, 14, 14, 14, 14, 14, 14, 14]\n",
      "trying keylen 15, len(text) = 117\n",
      "15 [15, 15, 15, 15, 15, 15, 15, 12]\n",
      "trying keylen 16, len(text) = 117\n",
      "16 [16, 16, 16, 16, 16, 16, 16]\n",
      "trying keylen 17, len(text) = 117\n",
      "17 [17, 17, 17, 17, 17, 17, 15]\n",
      "trying keylen 18, len(text) = 117\n",
      "18 [18, 18, 18, 18, 18, 18]\n",
      "trying keylen 19, len(text) = 117\n",
      "19 [19, 19, 19, 19, 19, 19]\n",
      "trying keylen 20, len(text) = 117\n",
      "20 [20, 20, 20, 20, 20, 17]\n",
      "trying keylen 21, len(text) = 117\n",
      "21 [21, 21, 21, 21, 21, 12]\n",
      "trying keylen 22, len(text) = 117\n",
      "22 [22, 22, 22, 22, 22]\n",
      "trying keylen 23, len(text) = 117\n",
      "23 [23, 23, 23, 23, 23]\n",
      "trying keylen 24, len(text) = 117\n",
      "24 [24, 24, 24, 24, 21]\n",
      "trying keylen 25, len(text) = 117\n",
      "25 [25, 25, 25, 25, 17]\n",
      "trying keylen 26, len(text) = 117\n",
      "26 [26, 26, 26, 26]\n",
      "trying keylen 27, len(text) = 117\n",
      "27 [27, 27, 27, 27]\n",
      "trying keylen 28, len(text) = 117\n",
      "28 [28, 28, 28, 28]\n",
      "trying keylen 29, len(text) = 117\n",
      "29 [29, 29, 29, 29]\n",
      "trying keylen 30, len(text) = 117\n",
      "30 [30, 30, 30, 27]\n",
      "trying keylen 31, len(text) = 117\n",
      "31 [31, 31, 31, 24]\n",
      "trying keylen 32, len(text) = 117\n",
      "32 [32, 32, 32, 21]\n",
      "trying keylen 33, len(text) = 117\n",
      "33 [33, 33, 33, 18]\n",
      "trying keylen 34, len(text) = 117\n",
      "34 [34, 34, 34]\n",
      "trying keylen 35, len(text) = 117\n",
      "35 [35, 35, 35]\n",
      "trying keylen 36, len(text) = 117\n",
      "36 [36, 36, 36]\n",
      "trying keylen 37, len(text) = 117\n",
      "37 [37, 37, 37]\n",
      "trying keylen 38, len(text) = 117\n",
      "38 [38, 38, 38]\n",
      "trying keylen 39, len(text) = 117\n",
      "39 [39, 39, 39]\n",
      "trying keylen 40, len(text) = 117\n",
      "40 [40, 40, 37]\n",
      "trying keylen 41, len(text) = 117\n",
      "41 [41, 41, 35]\n",
      "trying keylen 42, len(text) = 117\n",
      "42 [42, 42, 33]\n",
      "trying keylen 43, len(text) = 117\n",
      "43 [43, 43, 31]\n",
      "trying keylen 44, len(text) = 117\n",
      "44 [44, 44, 29]\n",
      "trying keylen 45, len(text) = 117\n",
      "45 [45, 45, 27]\n",
      "trying keylen 46, len(text) = 117\n",
      "46 [46, 46, 25]\n",
      "trying keylen 47, len(text) = 117\n",
      "47 [47, 47]\n",
      "trying keylen 48, len(text) = 117\n",
      "48 [48, 48]\n",
      "trying keylen 49, len(text) = 117\n",
      "49 [49, 49]\n",
      "trying keylen 50, len(text) = 117\n",
      "50 [50, 50]\n",
      "trying keylen 51, len(text) = 117\n",
      "51 [51, 51]\n",
      "trying keylen 52, len(text) = 117\n",
      "52 [52, 52]\n",
      "trying keylen 53, len(text) = 117\n",
      "53 [53, 53]\n",
      "trying keylen 54, len(text) = 117\n",
      "54 [54, 54]\n",
      "trying keylen 55, len(text) = 117\n",
      "55 [55, 55]\n",
      "trying keylen 56, len(text) = 117\n",
      "56 [56, 56]\n",
      "trying keylen 57, len(text) = 117\n",
      "57 [57, 57]\n",
      "trying keylen 58, len(text) = 117\n",
      "58 [58, 58]\n"
     ]
    },
    {
     "data": {
      "image/png": "[encoded data removed]",
      "text/plain": [
       "<Figure size 432x288 with 1 Axes>"
      ]
     },
     "metadata": {
      "needs_background": "light"
     },
     "output_type": "display_data"
    }
   ],
   "source": [
    "key = b\"$43132^21\"\n",
    "cipher_text = repeating_key_xor(plain_text, key)\n",
    "ck = compute_key_length(cipher_text, plot=True)\n",
    "assert math.gcd(ck, len(key)) == len(key)"
   ]
  },
  {
   "cell_type": "code",
   "execution_count": 19,
   "metadata": {},
   "outputs": [
    {
     "name": "stdout",
     "output_type": "stream",
     "text": [
      "accuracy 0.99\n"
     ]
    }
   ],
   "source": [
    "count, total = 0, 100\n",
    "for _ in range(total):\n",
    "    _key = random.sample(range(255), random.randint(2,16))\n",
    "    _cipher = repeating_key_xor(plain_text, _key)\n",
    "    ck = compute_key_length(_cipher)\n",
    "    try:\n",
    "        assert math.gcd(ck, len(_key)) == len(_key)\n",
    "        count += 1\n",
    "    except AssertionError as e:\n",
    "        pass\n",
    "\n",
    "print(f\"accuracy {count/total}\")"
   ]
  },
  {
   "cell_type": "code",
   "execution_count": 20,
   "metadata": {},
   "outputs": [],
   "source": [
    "for x in range(2, len(cipher_text)//2 + 1):\n",
    "    cipher_text = repeating_key_xor(plain_text, random.sample(range(255), x))\n",
    "    key_len = compute_key_length(cipher_text)\n",
    "    try:\n",
    "        assert math.gcd(key_len, x) == x\n",
    "    except AssertionError as e:\n",
    "        compute_key_length(cipher_text, plot=True)\n",
    "        print(f\"Hypothesis failed: actual key length {x}, observed key length {key_len}\")\n",
    "        print(f\"plain text {len(plain_text)}, cipher {len(cipher_text)}\")\n",
    "        raise e"
   ]
  },
  {
   "cell_type": "code",
   "execution_count": 21,
   "metadata": {},
   "outputs": [],
   "source": [
    "sentences = [\n",
    "    b'His mind was blown that there was nothing in space except space itself.',\n",
    "    b'I love bacon, beer, birds, and baboons.',\n",
    "    b'With a single flip of the coin, his life changed forever.',\n",
    "    b'If you like tuna and tomato sauce - try combining the two. It\\'s really not as bad as it sounds.',\n",
    "    b'The view from the lighthouse excited even the most seasoned traveler.',\n",
    "    b'The small white buoys marked the location of hundreds of crab pots.',\n",
    "    b'Be careful with that butter knife.',\n",
    "    b'We have young kids who often walk into our room at night for various reasons including clowns in the closet.',\n",
    "    b'Mary plays the piano.',\n",
    "    b'The lake is a long way from here.',\n",
    "    b'Buried deep in the snow, he hoped his batteries were fresh in his avalanche beacon.',\n",
    "    b'Swim at your own risk was taken as a challenge for the group of Kansas City college students.',\n",
    "    b'Peanut butter and jelly caused the elderly lady to think about her past.',\n",
    "    b'They say that dogs are man\\'s best friend, but this cat was setting out to sabotage that theory.',\n",
    "    b'He found a leprechaun in his walnut shell.',\n",
    "    b'She traveled because it cost the same as therapy and was a lot more enjoyable.',\n",
    "    b'Had he known what was going to happen, he would have never stepped into the shower.',\n",
    "    b'She wanted a pet platypus but ended up getting a duck and a ferret instead.',\n",
    "    b'The near-death experience brought new ideas to light.',\n",
    "    b'I was very proud of my nickname throughout high school but today - I couldn\\'t be any different to what my nickname was.',\n",
    "    b'It\\'s not often you find a soggy banana on the street.',\n",
    "    b'The doll spun around in circles in hopes of coming alive.',\n",
    "    b'You\\'re unsure whether or not to trust him, but very thankful that you wore a turtle neck.',\n",
    "    b'Shakespeare was a famous 17th-century diesel mechanic.',\n",
    "    b'There\\'s a message for you if you look up.',\n",
    "    b'She had the gift of being able to paint songs.',\n",
    "    b'Hit me with your pet shark!',\n",
    "    b'Abstraction is often one floor above you.',\n",
    "    b'David subscribes to the \"stuff your tent into the bag\" strategy over nicely folding it.',\n",
    "    b'The rusty nail stood erect, angled at a 45-degree angle, just waiting for the perfect barefoot to come along.',\n",
    "    b'Joyce enjoyed eating pancakes with ketchup.',\n",
    "    b'Let me help you with your baggage.',\n",
    "    b'The door slammed on the watermelon.',\n",
    "    b'The tour bus was packed with teenage girls heading toward their next adventure.',\n",
    "    b'The skeleton had skeletons of his own in the closet.',\n",
    "    b'25 years later, she still regretted that specific moment.',\n",
    "    b'There were three sphered rocks congregating in a cubed room.',\n",
    "    b'The thick foliage and intertwined vines made the hike nearly impossible.',\n",
    "    b'The stranger officiates the meal.',\n",
    "    b'She says she has the ability to hear the soundtrack of your life.',\n",
    "    b'I am counting my calories, yet I really want dessert.',\n",
    "    b'He had unknowingly taken up sleepwalking as a nighttime hobby.',\n",
    "    b'I\\'m confused: when people ask me what\\'s up, and I point, they groan.',\n",
    "    b'He\\'s in a boy band which doesn\\'t make much sense for a snake.',\n",
    "    b'Combines are no longer just for farms.',\n",
    "    b'There are few things better in life than a slice of pie.',\n",
    "    b'Greetings from the galaxy MACS0647-JD, or what we call home.',\n",
    "    b'She was the type of girl who wanted to live in a pink house.',\n",
    "    b'Smoky the Bear secretly started the fires.',\n",
    "    b'He didn\\'t understand why the bird wanted to ride the bicycle.',\n",
    "    b'He quietly entered the museum as the super bowl started.',\n",
    "    b'Nobody loves a pig wearing lipstick.',\n",
    "    b'Shakespeare was a famous 17th-century diesel mechanic.',\n",
    "    b'He had decided to accept his fate of accepting his fate.',\n",
    "    b'She saw no irony asking me to change but wanting me to accept her for who she is.',\n",
    "    b'The lyrics of the song sounded like fingernails on a chalkboard.',\n",
    "    b'Various sea birds are elegant, but nothing is as elegant as a gliding pelican.',\n",
    "    b'The newly planted trees were held up by wooden frames in hopes they could survive the next storm.',\n",
    "    b'She only paints with bold colors; she does not like pastels.',\n",
    "    b'The urgent care center was flooded with patients after the news of a new deadly virus was made public.',\n",
    "    b'The light in his life was actually a fire burning all around him.',\n",
    "    b'I would have gotten the promotion, but my attendance wasn\\'t good enough.',\n",
    "    b'He had a hidden stash underneath the floorboards in the back room of the house.',\n",
    "    b'There can never be too many cherries on an ice cream sundae.',\n",
    "    b'The thunderous roar of the jet overhead confirmed her worst fears.',\n",
    "    b'We should play with legos at camp.',\n",
    "    b'He was surprised that his immense laziness was inspirational to others.',\n",
    "    b'Bill ran from the giraffe toward the dolphin.',\n",
    "    b'The waves were crashing on the shore; it was a lovely sight.',\n",
    "    b'Check back tomorrow; I will see if the book has arrived.',\n",
    "    b'The irony of the situation wasn\\'t lost on anyone in the room.',\n",
    "    b'Her hair was windswept as she rode in the black convertible.',\n",
    "    b'It was the scarcity that fueled his creativity.',\n",
    "    b'Everyone says they love nature until they realize how dangerous she can be.',\n",
    "    b'Sometimes, all you need to do is completely make an ass of yourself and laugh it off to realise that life isn\\'t so bad after all.',\n",
    "    b'You\\'re unsure whether or not to trust him, but very thankful that you wore a turtle neck.',\n",
    "    b'She found his complete dullness interesting.',\n",
    "    b'The paintbrush was angry at the color the artist chose to use.',\n",
    "    b'his seven-layer cake only had six layers.',\n",
    "    b'Even though he thought the world was flat he didn\\'t see the irony of wanting to travel around the world.',\n",
    "    b'She tilted her head back and let whip cream stream into her mouth while taking a bath.',\n",
    "    b'She hadn\\'t had her cup of coffee, and that made things all the worse.',\n",
    "    b'Flying fish few by the space station.',\n",
    "    b'The blinking lights of the antenna tower came into focus just as I heard a loud snap.',\n",
    "    b'He poured rocks in the dungeon of his mind.',\n",
    "    b'Sometimes it is better to just walk away from things and go back to them later when you\\'re in a better frame of mind.',\n",
    "    b'There\\'s an art to getting your way, and spitting olive pits across the table isn\\'t it.',\n",
    "    b'I am counting my calories, yet I really want dessert.',\n",
    "    b'As you consider all the possible ways to improve yourself and the world, you notice John Travolta seems fairly unhappy.',\n",
    "    b'After exploring the abandoned building, he started to believe in ghosts.',\n",
    "    b'He invested some skill points in Charisma and Strength.',\n",
    "    b'The blue parrot drove by the hitchhiking mongoose.',\n",
    "    b'Had he known what was going to happen, he would have never stepped into the shower.',\n",
    "    b'It was a slippery slope and he was willing to slide all the way to the deepest depths.',\n",
    "    b'Going from child, to childish, to childlike is only a matter of time.',\n",
    "    b'The door slammed on the watermelon.',\n",
    "    b'They got there early, and they got really good seats.',\n",
    "    b'There was coal in his stocking and he was thrilled.',\n",
    "    b'He is good at eating pickles and telling women about his emotional problems.',\n",
    "    b'The three-year-old girl ran down the beach as the kite flew behind her.',\n",
    "]"
   ]
  },
  {
   "cell_type": "code",
   "execution_count": 22,
   "metadata": {},
   "outputs": [],
   "source": [
    "for sentence in sentences:\n",
    "    sentence = sentence.lower()\n",
    "    encryption_key = random.sample(range(255), random.randint(5, (len(sentence)//2) - 1))\n",
    "    _cipher = repeating_key_xor(sentence, encryption_key)\n",
    "    try:\n",
    "        ck = compute_key_length(_cipher)\n",
    "        assert math.gcd(ck, len(encryption_key)) == len(encryption_key)\n",
    "    except AssertionError as e:\n",
    "        ck = compute_key_length(_cipher, plot=True)\n",
    "        print(f\"actual key {len(encryption_key)}, computed {ck}\")\n",
    "        raise e"
   ]
  }
 ],
 "metadata": {
  "kernelspec": {
   "display_name": "Python 3",
   "language": "python",
   "name": "python3"
  },
  "language_info": {
   "codemirror_mode": {
    "name": "ipython",
    "version": 3
   },
   "file_extension": ".py",
   "mimetype": "text/x-python",
   "name": "python",
   "nbconvert_exporter": "python",
   "pygments_lexer": "ipython3",
   "version": "3.7.6"
  }
 },
 "nbformat": 4,
 "nbformat_minor": 4
}
